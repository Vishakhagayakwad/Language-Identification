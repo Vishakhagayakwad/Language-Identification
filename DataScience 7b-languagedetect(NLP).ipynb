{
 "cells": [
  {
   "cell_type": "markdown",
   "id": "515d014c",
   "metadata": {},
   "source": [
    "# Importing libraries"
   ]
  },
  {
   "cell_type": "code",
   "execution_count": 1,
   "id": "3bcaa0f9",
   "metadata": {},
   "outputs": [],
   "source": [
    "import pandas as pd\n",
    "import numpy as np\n",
    "from sklearn.feature_extraction.text import CountVectorizer\n",
    "from sklearn.naive_bayes import MultinomialNB\n",
    "from sklearn.model_selection import train_test_split\n",
    "from sklearn.metrics import accuracy_score\n",
    "import pickle"
   ]
  },
  {
   "cell_type": "markdown",
   "id": "1ced9c2a",
   "metadata": {},
   "source": [
    "# Read the dataset"
   ]
  },
  {
   "cell_type": "code",
   "execution_count": 2,
   "id": "7535eca1",
   "metadata": {},
   "outputs": [
    {
     "data": {
      "text/html": [
       "<div>\n",
       "<style scoped>\n",
       "    .dataframe tbody tr th:only-of-type {\n",
       "        vertical-align: middle;\n",
       "    }\n",
       "\n",
       "    .dataframe tbody tr th {\n",
       "        vertical-align: top;\n",
       "    }\n",
       "\n",
       "    .dataframe thead th {\n",
       "        text-align: right;\n",
       "    }\n",
       "</style>\n",
       "<table border=\"1\" class=\"dataframe\">\n",
       "  <thead>\n",
       "    <tr style=\"text-align: right;\">\n",
       "      <th></th>\n",
       "      <th>Text</th>\n",
       "      <th>language</th>\n",
       "    </tr>\n",
       "  </thead>\n",
       "  <tbody>\n",
       "    <tr>\n",
       "      <th>0</th>\n",
       "      <td>klement gottwaldi surnukeha palsameeriti ning ...</td>\n",
       "      <td>Estonian</td>\n",
       "    </tr>\n",
       "    <tr>\n",
       "      <th>1</th>\n",
       "      <td>sebes joseph pereira thomas  pÃ¥ eng the jesui...</td>\n",
       "      <td>Swedish</td>\n",
       "    </tr>\n",
       "    <tr>\n",
       "      <th>2</th>\n",
       "      <td>à¸à¸à¸à¹à¸à¸£à¸´à¸à¸à¸£à¸¸à¸ à¸­à¸±à¸...</td>\n",
       "      <td>Thai</td>\n",
       "    </tr>\n",
       "    <tr>\n",
       "      <th>3</th>\n",
       "      <td>à®µà®¿à®à®¾à®à®ªà¯à®ªà®à¯à®à®¿à®©à®®à¯ ...</td>\n",
       "      <td>Tamil</td>\n",
       "    </tr>\n",
       "    <tr>\n",
       "      <th>4</th>\n",
       "      <td>de spons behoort tot het geslacht haliclona en...</td>\n",
       "      <td>Dutch</td>\n",
       "    </tr>\n",
       "    <tr>\n",
       "      <th>...</th>\n",
       "      <td>...</td>\n",
       "      <td>...</td>\n",
       "    </tr>\n",
       "    <tr>\n",
       "      <th>21995</th>\n",
       "      <td>hors du terrain les annÃ©es  et  sont des annÃ...</td>\n",
       "      <td>French</td>\n",
       "    </tr>\n",
       "    <tr>\n",
       "      <th>21996</th>\n",
       "      <td>à¹à¸ à¸à¸¨  à¸«à¸¥à¸±à¸à¸à¸²à¸à¸à¸µà¹à...</td>\n",
       "      <td>Thai</td>\n",
       "    </tr>\n",
       "    <tr>\n",
       "      <th>21997</th>\n",
       "      <td>con motivo de la celebraciÃ³n del septuagÃ©sim...</td>\n",
       "      <td>Spanish</td>\n",
       "    </tr>\n",
       "    <tr>\n",
       "      <th>21998</th>\n",
       "      <td>å¹´æï¼ç¶æéåªææ­²çå¥¹å¨ç¾ååºé...</td>\n",
       "      <td>Chinese</td>\n",
       "    </tr>\n",
       "    <tr>\n",
       "      <th>21999</th>\n",
       "      <td>aprilie sonda spaÈialÄ messenger a nasa Èi...</td>\n",
       "      <td>Romanian</td>\n",
       "    </tr>\n",
       "  </tbody>\n",
       "</table>\n",
       "<p>22000 rows × 2 columns</p>\n",
       "</div>"
      ],
      "text/plain": [
       "                                                    Text  language\n",
       "0      klement gottwaldi surnukeha palsameeriti ning ...  Estonian\n",
       "1      sebes joseph pereira thomas  pÃ¥ eng the jesui...   Swedish\n",
       "2      à¸à¸à¸à¹à¸à¸£à¸´à¸à¸à¸£à¸¸à¸ à¸­à¸±à¸...      Thai\n",
       "3      à®µà®¿à®à®¾à®à®ªà¯à®ªà®à¯à®à®¿à®©à®®à¯ ...     Tamil\n",
       "4      de spons behoort tot het geslacht haliclona en...     Dutch\n",
       "...                                                  ...       ...\n",
       "21995  hors du terrain les annÃ©es  et  sont des annÃ...    French\n",
       "21996  à¹à¸ à¸à¸¨  à¸«à¸¥à¸±à¸à¸à¸²à¸à¸à¸µà¹à...      Thai\n",
       "21997  con motivo de la celebraciÃ³n del septuagÃ©sim...   Spanish\n",
       "21998  å¹´æï¼ç¶æéåªææ­²çå¥¹å¨ç¾ååºé...   Chinese\n",
       "21999   aprilie sonda spaÈialÄ messenger a nasa Èi...  Romanian\n",
       "\n",
       "[22000 rows x 2 columns]"
      ]
     },
     "execution_count": 2,
     "metadata": {},
     "output_type": "execute_result"
    }
   ],
   "source": [
    "df=pd.read_csv(r'C:\\Users\\Welcome\\Desktop\\Data Science Internship\\CSV FILES\\languagedataset.csv',encoding=\"latin-1\")\n",
    "df"
   ]
  },
  {
   "cell_type": "markdown",
   "id": "63f3e6ec",
   "metadata": {},
   "source": [
    "# Split the columns into x and y variable"
   ]
  },
  {
   "cell_type": "code",
   "execution_count": 3,
   "id": "fb1dcd93",
   "metadata": {},
   "outputs": [],
   "source": [
    "x=np.array(df['Text'])\n",
    "y=np.array(df['language'])"
   ]
  },
  {
   "cell_type": "markdown",
   "id": "ec725de0",
   "metadata": {},
   "source": [
    "# Convert the text data into numerical data"
   ]
  },
  {
   "cell_type": "code",
   "execution_count": 4,
   "id": "2dcd9859",
   "metadata": {},
   "outputs": [],
   "source": [
    "cv=CountVectorizer()\n",
    "x=cv.fit_transform(x)"
   ]
  },
  {
   "cell_type": "markdown",
   "id": "dd2bae33",
   "metadata": {},
   "source": [
    "# Split the data into training and testing sets"
   ]
  },
  {
   "cell_type": "code",
   "execution_count": 5,
   "id": "4db168bb",
   "metadata": {},
   "outputs": [],
   "source": [
    "x_train, x_test, y_train, y_test=train_test_split(x,y, test_size=0.33, random_state=42)"
   ]
  },
  {
   "cell_type": "markdown",
   "id": "e857c6cd",
   "metadata": {},
   "source": [
    "# Train the model"
   ]
  },
  {
   "cell_type": "code",
   "execution_count": 6,
   "id": "aaa250f4",
   "metadata": {},
   "outputs": [
    {
     "name": "stdout",
     "output_type": "stream",
     "text": [
      "0.9672176308539945\n"
     ]
    }
   ],
   "source": [
    "clf=MultinomialNB()\n",
    "clf.fit(x_train, y_train)\n",
    "print(clf.score(x_test,y_test))"
   ]
  },
  {
   "cell_type": "markdown",
   "id": "51831b0b",
   "metadata": {},
   "source": [
    "# Evaluate the model"
   ]
  },
  {
   "cell_type": "code",
   "execution_count": 7,
   "id": "8943dccd",
   "metadata": {},
   "outputs": [
    {
     "name": "stdout",
     "output_type": "stream",
     "text": [
      "Accuracy: 0.9672176308539945\n"
     ]
    }
   ],
   "source": [
    "y_pred=clf.predict(x_test)\n",
    "print(f'Accuracy: {accuracy_score(y_test, y_pred)}')"
   ]
  },
  {
   "cell_type": "markdown",
   "id": "4cc46c3b",
   "metadata": {},
   "source": [
    "# Save the trained model and count vectorizer for later use"
   ]
  },
  {
   "cell_type": "code",
   "execution_count": 8,
   "id": "72d0789a",
   "metadata": {},
   "outputs": [
    {
     "name": "stdout",
     "output_type": "stream",
     "text": [
      "model saved.\n"
     ]
    }
   ],
   "source": [
    "with open('language_model.pkl', 'wb') as model_file:\n",
    "    pickle.dump(clf, model_file)\n",
    "with open('transform1.pkl', 'wb') as cv_file:\n",
    "    pickle.dump(cv, cv_file)\n",
    "print(f\"model saved.\")    \n",
    "    "
   ]
  },
  {
   "cell_type": "markdown",
   "id": "cbb23177",
   "metadata": {},
   "source": [
    "# Deploy the model on Streamlit"
   ]
  },
  {
   "cell_type": "code",
   "execution_count": 9,
   "id": "b03ee8bb",
   "metadata": {},
   "outputs": [
    {
     "name": "stdout",
     "output_type": "stream",
     "text": [
      "File 'langapp.py' has been saved.\n"
     ]
    }
   ],
   "source": [
    "streamlit_code = \"\"\"\n",
    "import streamlit as st\n",
    "import pickle\n",
    "\n",
    "# Load the pre-trained model and CountVectorizer\n",
    "model_filename = 'language_model.pkl'\n",
    "cv_filename = 'transform1.pkl'\n",
    "\n",
    "clf = pickle.load(open(model_filename, 'rb'))\n",
    "cv = pickle.load(open(cv_filename, 'rb'))\n",
    "\n",
    "# Title of the web app\n",
    "st.title('Language Detector')\n",
    "\n",
    "st.write(\"Enter a text snippet to predict its language\")\n",
    "\n",
    "user_input = st.text_area(\"Enter Text:\")\n",
    "\n",
    "if st.button(\"Predict Language\"):\n",
    "    if user_input:\n",
    "        data = cv.transform([user_input]).toarray()\n",
    "        output = clf.predict(data)\n",
    "        st.write(f\"The predicted language is: {output[0]}\")\n",
    "    else:\n",
    "        st.write(\"Please enter some text for prediction.\")\n",
    "\"\"\"\n",
    "\n",
    "# Specify the file path where the app.py file will be saved\n",
    "file_path = 'langapp.py'\n",
    "\n",
    "# Write the content to the file\n",
    "with open(file_path, 'w') as file:\n",
    "    file.write(streamlit_code)\n",
    "\n",
    "print(f\"File '{file_path}' has been saved.\")"
   ]
  },
  {
   "cell_type": "code",
   "execution_count": null,
   "id": "34887520",
   "metadata": {},
   "outputs": [],
   "source": []
  }
 ],
 "metadata": {
  "kernelspec": {
   "display_name": "Python 3 (ipykernel)",
   "language": "python",
   "name": "python3"
  },
  "language_info": {
   "codemirror_mode": {
    "name": "ipython",
    "version": 3
   },
   "file_extension": ".py",
   "mimetype": "text/x-python",
   "name": "python",
   "nbconvert_exporter": "python",
   "pygments_lexer": "ipython3",
   "version": "3.11.7"
  }
 },
 "nbformat": 4,
 "nbformat_minor": 5
}
